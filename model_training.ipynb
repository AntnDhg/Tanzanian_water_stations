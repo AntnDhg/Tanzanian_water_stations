{
 "cells": [
  {
   "cell_type": "code",
   "execution_count": 1,
   "id": "96c0a969-d809-483f-aee9-1c65942ece94",
   "metadata": {},
   "outputs": [],
   "source": [
    "import matplotlib.pyplot as plt\n",
    "import seaborn as sns\n",
    "from numpy import std\n",
    "from pandas import DataFrame, concat, read_csv\n",
    "from sklearn.ensemble import RandomForestClassifier\n",
    "from sklearn.model_selection import GridSearchCV, StratifiedKFold"
   ]
  },
  {
   "cell_type": "code",
   "execution_count": 2,
   "id": "b9defc4d-2a2a-4fb7-8615-5d91d6164079",
   "metadata": {},
   "outputs": [],
   "source": [
    "# Load the different datasets\n",
    "X_train = read_csv(\"../train_features_cleaned.csv\").drop(columns=[\"id\"]) # cleaned training features\n",
    "X_test = read_csv(\"../test_features_cleaned.csv\").set_index(\"id\") # cleaned test features\n",
    "y_train = read_csv(\"../data/training_set_labels.csv\")[\"status_group\"] # training set labels\n",
    "y_train_id = read_csv(\"../test_features_cleaned.csv\")[[\"id\"]] # training set labels"
   ]
  },
  {
   "cell_type": "code",
   "execution_count": 3,
   "id": "2d3953a1-8485-4983-9259-cbe5bbc9ddb0",
   "metadata": {},
   "outputs": [
    {
     "name": "stdout",
     "output_type": "stream",
     "text": [
      "0.8005892255892255\n",
      "{'min_samples_split': 6, 'n_estimators': 700}\n"
     ]
    }
   ],
   "source": [
    "# use a grid-search over min_samples_split and n_estimators to find the optimal hyperparameters\n",
    "# NOTE: as this is a small grid, it is unlikely that these are optimal hyperparameters\n",
    "rf = RandomForestClassifier(\n",
    "    criterion=\"gini\",\n",
    "    n_estimators=500,\n",
    "    max_features=\"auto\",\n",
    "    oob_score=True,\n",
    "    random_state=1,\n",
    "    n_jobs=-1,\n",
    ")\n",
    "\n",
    "param_grid = {\"min_samples_split\": [4, 6, 8], \"n_estimators\": [500, 700, 1000]}\n",
    "\n",
    "gs = GridSearchCV(\n",
    "    estimator=rf, param_grid=param_grid, scoring=\"accuracy\", cv=2, n_jobs=-1\n",
    ")\n",
    "\n",
    "gs = gs.fit(X_train, y_train.values.ravel())\n",
    "\n",
    "print(gs.best_score_)\n",
    "print(gs.best_params_)"
   ]
  },
  {
   "cell_type": "code",
   "execution_count": 5,
   "id": "07076065-5cef-47d2-9179-6aa870e03035",
   "metadata": {},
   "outputs": [
    {
     "name": "stdout",
     "output_type": "stream",
     "text": [
      "0.8126\n"
     ]
    }
   ],
   "source": [
    "# Fit a random forest with the optimal hyperparameters\n",
    "rf = RandomForestClassifier(\n",
    "    criterion=\"gini\",\n",
    "    min_samples_split=6,\n",
    "    n_estimators=700,\n",
    "    max_features=\"auto\",\n",
    "    oob_score=True,\n",
    "    random_state=1,\n",
    "    n_jobs=-1,\n",
    ")\n",
    "\n",
    "rf.fit(X_train, y_train.values.ravel())\n",
    "print(\"%.4f\" % rf.oob_score_)"
   ]
  },
  {
   "cell_type": "code",
   "execution_count": 4,
   "id": "23121b2e-a7b6-4a1f-9614-cbfa17441243",
   "metadata": {},
   "outputs": [],
   "source": [
    "# kfold = StratifiedKFold(n_splits=3, random_state=1, shuffle=True)\n",
    "# scores = []\n",
    "# for train_index, test_index in kfold.split(X_train, y_train):\n",
    "#     print(\"TRAIN:\", train_index, \"TEST:\", test_index)\n",
    "#     X_train_fold, X_test_fold = X_train.iloc[train_index], X_train.iloc[test_index]\n",
    "#     y_train_fold, y_test_fold = y_train.iloc[train_index], y_train.iloc[test_index]\n",
    "# # for k, (train, test) in enumerate(kfold):\n",
    "# #     rf.fit(X_train.values[train], y_train.values.ravel()[train])\n",
    "# #     score = rf.score(X_train.values[test], y_train.values.ravel()[test])\n",
    "# #     scores.append(score)\n",
    "# #     print('Fold: %s, Class dist.: %s, Acc: %.3f' % (k+1, np.array(y_train['status_group'][train].value_counts()), score))"
   ]
  },
  {
   "cell_type": "code",
   "execution_count": 107,
   "id": "92df022b-048a-4877-b8e5-64fcef7e3f7c",
   "metadata": {},
   "outputs": [],
   "source": [
    "# Use the trained model to make predictions for the test set\n",
    "yhat = DataFrame(rf.predict(X_test)).rename(columns={0: \"status_group\"})\n",
    "yhat = y_train_id.merge(yhat, left_index=True, right_index=True)"
   ]
  },
  {
   "cell_type": "code",
   "execution_count": 108,
   "id": "4b38a03a-ed3a-48ab-878d-bac01d317b08",
   "metadata": {},
   "outputs": [
    {
     "data": {
      "text/html": [
       "<div>\n",
       "<style scoped>\n",
       "    .dataframe tbody tr th:only-of-type {\n",
       "        vertical-align: middle;\n",
       "    }\n",
       "\n",
       "    .dataframe tbody tr th {\n",
       "        vertical-align: top;\n",
       "    }\n",
       "\n",
       "    .dataframe thead th {\n",
       "        text-align: right;\n",
       "    }\n",
       "</style>\n",
       "<table border=\"1\" class=\"dataframe\">\n",
       "  <thead>\n",
       "    <tr style=\"text-align: right;\">\n",
       "      <th></th>\n",
       "      <th>id</th>\n",
       "      <th>status_group</th>\n",
       "    </tr>\n",
       "  </thead>\n",
       "  <tbody>\n",
       "    <tr>\n",
       "      <th>0</th>\n",
       "      <td>50785</td>\n",
       "      <td>non functional</td>\n",
       "    </tr>\n",
       "    <tr>\n",
       "      <th>1</th>\n",
       "      <td>51630</td>\n",
       "      <td>functional</td>\n",
       "    </tr>\n",
       "    <tr>\n",
       "      <th>2</th>\n",
       "      <td>17168</td>\n",
       "      <td>functional</td>\n",
       "    </tr>\n",
       "    <tr>\n",
       "      <th>3</th>\n",
       "      <td>45559</td>\n",
       "      <td>non functional</td>\n",
       "    </tr>\n",
       "    <tr>\n",
       "      <th>4</th>\n",
       "      <td>49871</td>\n",
       "      <td>functional</td>\n",
       "    </tr>\n",
       "    <tr>\n",
       "      <th>...</th>\n",
       "      <td>...</td>\n",
       "      <td>...</td>\n",
       "    </tr>\n",
       "    <tr>\n",
       "      <th>14845</th>\n",
       "      <td>39307</td>\n",
       "      <td>non functional</td>\n",
       "    </tr>\n",
       "    <tr>\n",
       "      <th>14846</th>\n",
       "      <td>18990</td>\n",
       "      <td>functional</td>\n",
       "    </tr>\n",
       "    <tr>\n",
       "      <th>14847</th>\n",
       "      <td>28749</td>\n",
       "      <td>functional</td>\n",
       "    </tr>\n",
       "    <tr>\n",
       "      <th>14848</th>\n",
       "      <td>33492</td>\n",
       "      <td>functional</td>\n",
       "    </tr>\n",
       "    <tr>\n",
       "      <th>14849</th>\n",
       "      <td>68707</td>\n",
       "      <td>non functional</td>\n",
       "    </tr>\n",
       "  </tbody>\n",
       "</table>\n",
       "<p>14850 rows × 2 columns</p>\n",
       "</div>"
      ],
      "text/plain": [
       "          id    status_group\n",
       "0      50785  non functional\n",
       "1      51630      functional\n",
       "2      17168      functional\n",
       "3      45559  non functional\n",
       "4      49871      functional\n",
       "...      ...             ...\n",
       "14845  39307  non functional\n",
       "14846  18990      functional\n",
       "14847  28749      functional\n",
       "14848  33492      functional\n",
       "14849  68707  non functional\n",
       "\n",
       "[14850 rows x 2 columns]"
      ]
     },
     "execution_count": 108,
     "metadata": {},
     "output_type": "execute_result"
    }
   ],
   "source": [
    "# Print the first rows of the prediction result\n",
    "yhat.head()"
   ]
  },
  {
   "cell_type": "code",
   "execution_count": 109,
   "id": "3c5b7706-36b0-49dc-8c0d-073095172c16",
   "metadata": {},
   "outputs": [],
   "source": [
    "# write the results to a CSV file for submission\n",
    "yhat.to_csv(\"submission_1_andho.csv\", index=False)"
   ]
  }
 ],
 "metadata": {
  "kernelspec": {
   "display_name": "Python 3 (ipykernel)",
   "language": "python",
   "name": "python3"
  },
  "language_info": {
   "codemirror_mode": {
    "name": "ipython",
    "version": 3
   },
   "file_extension": ".py",
   "mimetype": "text/x-python",
   "name": "python",
   "nbconvert_exporter": "python",
   "pygments_lexer": "ipython3",
   "version": "3.9.7"
  }
 },
 "nbformat": 4,
 "nbformat_minor": 5
}
